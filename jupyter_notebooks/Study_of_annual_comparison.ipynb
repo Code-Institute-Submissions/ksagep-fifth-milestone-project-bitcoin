{
 "cells": [
  {
   "attachments": {},
   "cell_type": "markdown",
   "metadata": {},
   "source": [
    "# Study of annual comparison Notebook"
   ]
  },
  {
   "attachments": {},
   "cell_type": "markdown",
   "metadata": {},
   "source": [
    "## Objectives\n",
    "- Answer Business Requirements 2\n",
    "- To prove for client that as the exchange rate rises, the difference between the opening and closing value will be smaller than with a lower exchange rate.\n",
    "\n",
    "## Input\n",
    "- Jupyter_notebooks/outputs/dataset/collection/Bitcoin_Price_Data.csv\n",
    "\n",
    "## Output\n",
    "- Generate codes that answer the Business Requirement 2."
   ]
  },
  {
   "attachments": {},
   "cell_type": "markdown",
   "metadata": {},
   "source": [
    "# Change the working directory"
   ]
  },
  {
   "attachments": {},
   "cell_type": "markdown",
   "metadata": {},
   "source": [
    "### Import libraries"
   ]
  },
  {
   "cell_type": "code",
   "execution_count": null,
   "metadata": {},
   "outputs": [],
   "source": [
    "import os\n",
    "import pandas as pd\n",
    "import numpy as np\n",
    "import matplotlib.pyplot as plt\n",
    "import seaborn as sns"
   ]
  },
  {
   "attachments": {},
   "cell_type": "markdown",
   "metadata": {},
   "source": [
    "We need to change the working directory from its current folder to its parent folder\n",
    "* We access the current directory with os.getcwd()"
   ]
  },
  {
   "cell_type": "code",
   "execution_count": 1,
   "metadata": {},
   "outputs": [
    {
     "data": {
      "text/plain": [
       "'/workspace/fifth-milestone-project-bitcoin/jupyter_notebooks'"
      ]
     },
     "execution_count": 1,
     "metadata": {},
     "output_type": "execute_result"
    }
   ],
   "source": [
    "current_dir = os.getcwd()\n",
    "current_dir"
   ]
  },
  {
   "attachments": {},
   "cell_type": "markdown",
   "metadata": {},
   "source": [
    "We want to make the parent of the current directory the new current directory"
   ]
  },
  {
   "cell_type": "code",
   "execution_count": 3,
   "metadata": {},
   "outputs": [
    {
     "name": "stdout",
     "output_type": "stream",
     "text": [
      "\n"
     ]
    }
   ],
   "source": [
    "os.chdir(os.path.dirname(current_dir))\n",
    "print()"
   ]
  },
  {
   "attachments": {},
   "cell_type": "markdown",
   "metadata": {},
   "source": [
    "Confirm the new current directory"
   ]
  },
  {
   "cell_type": "code",
   "execution_count": 4,
   "metadata": {},
   "outputs": [
    {
     "data": {
      "text/plain": [
       "'/workspace/fifth-milestone-project-bitcoin'"
      ]
     },
     "execution_count": 4,
     "metadata": {},
     "output_type": "execute_result"
    }
   ],
   "source": [
    "current_dir = os.getcwd()\n",
    "current_dir"
   ]
  },
  {
   "attachments": {},
   "cell_type": "markdown",
   "metadata": {},
   "source": [
    "# Load data"
   ]
  },
  {
   "cell_type": "code",
   "execution_count": 6,
   "metadata": {},
   "outputs": [
    {
     "data": {
      "text/html": [
       "<div>\n",
       "<style scoped>\n",
       "    .dataframe tbody tr th:only-of-type {\n",
       "        vertical-align: middle;\n",
       "    }\n",
       "\n",
       "    .dataframe tbody tr th {\n",
       "        vertical-align: top;\n",
       "    }\n",
       "\n",
       "    .dataframe thead th {\n",
       "        text-align: right;\n",
       "    }\n",
       "</style>\n",
       "<table border=\"1\" class=\"dataframe\">\n",
       "  <thead>\n",
       "    <tr style=\"text-align: right;\">\n",
       "      <th></th>\n",
       "      <th>Unnamed: 0</th>\n",
       "      <th>Date</th>\n",
       "      <th>Closing Price (USD)</th>\n",
       "      <th>24h Open (USD)</th>\n",
       "    </tr>\n",
       "  </thead>\n",
       "  <tbody>\n",
       "    <tr>\n",
       "      <th>0</th>\n",
       "      <td>0</td>\n",
       "      <td>2014-03-14</td>\n",
       "      <td>124.654990</td>\n",
       "      <td>125.304660</td>\n",
       "    </tr>\n",
       "    <tr>\n",
       "      <th>1</th>\n",
       "      <td>1</td>\n",
       "      <td>2014-03-15</td>\n",
       "      <td>126.455000</td>\n",
       "      <td>124.654990</td>\n",
       "    </tr>\n",
       "    <tr>\n",
       "      <th>2</th>\n",
       "      <td>2</td>\n",
       "      <td>2014-03-16</td>\n",
       "      <td>109.584830</td>\n",
       "      <td>126.455000</td>\n",
       "    </tr>\n",
       "    <tr>\n",
       "      <th>3</th>\n",
       "      <td>3</td>\n",
       "      <td>2014-03-17</td>\n",
       "      <td>119.674660</td>\n",
       "      <td>109.584830</td>\n",
       "    </tr>\n",
       "    <tr>\n",
       "      <th>4</th>\n",
       "      <td>4</td>\n",
       "      <td>2014-03-18</td>\n",
       "      <td>122.338660</td>\n",
       "      <td>119.674660</td>\n",
       "    </tr>\n",
       "    <tr>\n",
       "      <th>...</th>\n",
       "      <td>...</td>\n",
       "      <td>...</td>\n",
       "      <td>...</td>\n",
       "      <td>...</td>\n",
       "    </tr>\n",
       "    <tr>\n",
       "      <th>2782</th>\n",
       "      <td>2782</td>\n",
       "      <td>2021-10-25</td>\n",
       "      <td>49765.132082</td>\n",
       "      <td>49597.778891</td>\n",
       "    </tr>\n",
       "    <tr>\n",
       "      <th>2783</th>\n",
       "      <td>2783</td>\n",
       "      <td>2021-10-26</td>\n",
       "      <td>50033.693137</td>\n",
       "      <td>49718.354353</td>\n",
       "    </tr>\n",
       "    <tr>\n",
       "      <th>2784</th>\n",
       "      <td>2784</td>\n",
       "      <td>2021-10-27</td>\n",
       "      <td>47886.625255</td>\n",
       "      <td>49927.035067</td>\n",
       "    </tr>\n",
       "    <tr>\n",
       "      <th>2785</th>\n",
       "      <td>2785</td>\n",
       "      <td>2021-10-28</td>\n",
       "      <td>45605.615754</td>\n",
       "      <td>46806.537852</td>\n",
       "    </tr>\n",
       "    <tr>\n",
       "      <th>2786</th>\n",
       "      <td>2786</td>\n",
       "      <td>2021-10-29</td>\n",
       "      <td>43145.471291</td>\n",
       "      <td>46440.336570</td>\n",
       "    </tr>\n",
       "  </tbody>\n",
       "</table>\n",
       "<p>2787 rows × 4 columns</p>\n",
       "</div>"
      ],
      "text/plain": [
       "      Unnamed: 0        Date  Closing Price (USD)  24h Open (USD)\n",
       "0              0  2014-03-14           124.654990      125.304660\n",
       "1              1  2014-03-15           126.455000      124.654990\n",
       "2              2  2014-03-16           109.584830      126.455000\n",
       "3              3  2014-03-17           119.674660      109.584830\n",
       "4              4  2014-03-18           122.338660      119.674660\n",
       "...          ...         ...                  ...             ...\n",
       "2782        2782  2021-10-25         49765.132082    49597.778891\n",
       "2783        2783  2021-10-26         50033.693137    49718.354353\n",
       "2784        2784  2021-10-27         47886.625255    49927.035067\n",
       "2785        2785  2021-10-28         45605.615754    46806.537852\n",
       "2786        2786  2021-10-29         43145.471291    46440.336570\n",
       "\n",
       "[2787 rows x 4 columns]"
      ]
     },
     "execution_count": 6,
     "metadata": {},
     "output_type": "execute_result"
    }
   ],
   "source": [
    "import pandas as pd\n",
    "df = (pd.read_csv(\"/workspace/fifth-milestone-project-bitcoin/jupyter_notebooks/outputs/dataset/collection/Bitcoin_Price_Data.csv\").drop(['24h High (USD)','24h Low (USD)'], axis=1))\n",
    "df.head(2787)"
   ]
  },
  {
   "attachments": {},
   "cell_type": "markdown",
   "metadata": {},
   "source": [
    "# Data filter for Business Requirement 2"
   ]
  },
  {
   "attachments": {},
   "cell_type": "markdown",
   "metadata": {},
   "source": [
    "I filter the data of opening and closing exchange rate for 1st January, 30th June and 31st December"
   ]
  },
  {
   "cell_type": "code",
   "execution_count": 40,
   "metadata": {},
   "outputs": [
    {
     "data": {
      "text/html": [
       "<div>\n",
       "<style scoped>\n",
       "    .dataframe tbody tr th:only-of-type {\n",
       "        vertical-align: middle;\n",
       "    }\n",
       "\n",
       "    .dataframe tbody tr th {\n",
       "        vertical-align: top;\n",
       "    }\n",
       "\n",
       "    .dataframe thead th {\n",
       "        text-align: right;\n",
       "    }\n",
       "</style>\n",
       "<table border=\"1\" class=\"dataframe\">\n",
       "  <thead>\n",
       "    <tr style=\"text-align: right;\">\n",
       "      <th></th>\n",
       "      <th>Unnamed: 0</th>\n",
       "      <th>Date</th>\n",
       "      <th>Closing Price (USD)</th>\n",
       "      <th>24h Open (USD)</th>\n",
       "    </tr>\n",
       "  </thead>\n",
       "  <tbody>\n",
       "    <tr>\n",
       "      <th>0</th>\n",
       "      <td>0</td>\n",
       "      <td>2014-03-14</td>\n",
       "      <td>124.654990</td>\n",
       "      <td>125.304660</td>\n",
       "    </tr>\n",
       "    <tr>\n",
       "      <th>108</th>\n",
       "      <td>108</td>\n",
       "      <td>2014-06-30</td>\n",
       "      <td>843.191730</td>\n",
       "      <td>875.074160</td>\n",
       "    </tr>\n",
       "    <tr>\n",
       "      <th>292</th>\n",
       "      <td>292</td>\n",
       "      <td>2014-12-31</td>\n",
       "      <td>624.006250</td>\n",
       "      <td>624.996250</td>\n",
       "    </tr>\n",
       "    <tr>\n",
       "      <th>293</th>\n",
       "      <td>293</td>\n",
       "      <td>2015-01-01</td>\n",
       "      <td>618.961240</td>\n",
       "      <td>624.006250</td>\n",
       "    </tr>\n",
       "    <tr>\n",
       "      <th>473</th>\n",
       "      <td>473</td>\n",
       "      <td>2015-06-30</td>\n",
       "      <td>210.165500</td>\n",
       "      <td>221.574500</td>\n",
       "    </tr>\n",
       "    <tr>\n",
       "      <th>657</th>\n",
       "      <td>657</td>\n",
       "      <td>2015-12-31</td>\n",
       "      <td>275.283870</td>\n",
       "      <td>276.306870</td>\n",
       "    </tr>\n",
       "    <tr>\n",
       "      <th>658</th>\n",
       "      <td>658</td>\n",
       "      <td>2016-01-01</td>\n",
       "      <td>280.459250</td>\n",
       "      <td>275.283870</td>\n",
       "    </tr>\n",
       "    <tr>\n",
       "      <th>839</th>\n",
       "      <td>839</td>\n",
       "      <td>2016-06-30</td>\n",
       "      <td>381.817000</td>\n",
       "      <td>384.138000</td>\n",
       "    </tr>\n",
       "    <tr>\n",
       "      <th>1023</th>\n",
       "      <td>1023</td>\n",
       "      <td>2016-12-31</td>\n",
       "      <td>674.008000</td>\n",
       "      <td>674.832000</td>\n",
       "    </tr>\n",
       "    <tr>\n",
       "      <th>1024</th>\n",
       "      <td>1024</td>\n",
       "      <td>2017-01-01</td>\n",
       "      <td>663.034000</td>\n",
       "      <td>674.008000</td>\n",
       "    </tr>\n",
       "    <tr>\n",
       "      <th>1204</th>\n",
       "      <td>1204</td>\n",
       "      <td>2017-06-30</td>\n",
       "      <td>849.581250</td>\n",
       "      <td>831.740000</td>\n",
       "    </tr>\n",
       "    <tr>\n",
       "      <th>1388</th>\n",
       "      <td>1388</td>\n",
       "      <td>2017-12-31</td>\n",
       "      <td>2350.355000</td>\n",
       "      <td>2355.892500</td>\n",
       "    </tr>\n",
       "    <tr>\n",
       "      <th>1389</th>\n",
       "      <td>1389</td>\n",
       "      <td>2018-01-01</td>\n",
       "      <td>2741.568750</td>\n",
       "      <td>2350.355000</td>\n",
       "    </tr>\n",
       "    <tr>\n",
       "      <th>1569</th>\n",
       "      <td>1569</td>\n",
       "      <td>2018-06-30</td>\n",
       "      <td>10871.168750</td>\n",
       "      <td>12916.116250</td>\n",
       "    </tr>\n",
       "    <tr>\n",
       "      <th>1753</th>\n",
       "      <td>1753</td>\n",
       "      <td>2018-12-31</td>\n",
       "      <td>7485.639670</td>\n",
       "      <td>7360.737036</td>\n",
       "    </tr>\n",
       "    <tr>\n",
       "      <th>1754</th>\n",
       "      <td>1754</td>\n",
       "      <td>2019-01-01</td>\n",
       "      <td>7358.445677</td>\n",
       "      <td>7485.639663</td>\n",
       "    </tr>\n",
       "    <tr>\n",
       "      <th>1934</th>\n",
       "      <td>1934</td>\n",
       "      <td>2019-06-30</td>\n",
       "      <td>3594.721740</td>\n",
       "      <td>3569.682666</td>\n",
       "    </tr>\n",
       "    <tr>\n",
       "      <th>2118</th>\n",
       "      <td>2118</td>\n",
       "      <td>2019-12-31</td>\n",
       "      <td>10467.260938</td>\n",
       "      <td>10604.343146</td>\n",
       "    </tr>\n",
       "    <tr>\n",
       "      <th>2119</th>\n",
       "      <td>2119</td>\n",
       "      <td>2020-01-01</td>\n",
       "      <td>10984.216002</td>\n",
       "      <td>10534.963252</td>\n",
       "    </tr>\n",
       "    <tr>\n",
       "      <th>2300</th>\n",
       "      <td>2300</td>\n",
       "      <td>2020-06-30</td>\n",
       "      <td>8926.299028</td>\n",
       "      <td>8712.637311</td>\n",
       "    </tr>\n",
       "    <tr>\n",
       "      <th>2484</th>\n",
       "      <td>2484</td>\n",
       "      <td>2020-12-31</td>\n",
       "      <td>9191.271534</td>\n",
       "      <td>9183.914419</td>\n",
       "    </tr>\n",
       "    <tr>\n",
       "      <th>2485</th>\n",
       "      <td>2485</td>\n",
       "      <td>2021-01-01</td>\n",
       "      <td>9173.588333</td>\n",
       "      <td>9214.358566</td>\n",
       "    </tr>\n",
       "    <tr>\n",
       "      <th>2665</th>\n",
       "      <td>2665</td>\n",
       "      <td>2021-06-30</td>\n",
       "      <td>36017.779606</td>\n",
       "      <td>36753.771185</td>\n",
       "    </tr>\n",
       "    <tr>\n",
       "      <th>2786</th>\n",
       "      <td>2786</td>\n",
       "      <td>2021-10-29</td>\n",
       "      <td>43145.471291</td>\n",
       "      <td>46440.336570</td>\n",
       "    </tr>\n",
       "  </tbody>\n",
       "</table>\n",
       "</div>"
      ],
      "text/plain": [
       "      Unnamed: 0        Date  Closing Price (USD)  24h Open (USD)\n",
       "0              0  2014-03-14           124.654990      125.304660\n",
       "108          108  2014-06-30           843.191730      875.074160\n",
       "292          292  2014-12-31           624.006250      624.996250\n",
       "293          293  2015-01-01           618.961240      624.006250\n",
       "473          473  2015-06-30           210.165500      221.574500\n",
       "657          657  2015-12-31           275.283870      276.306870\n",
       "658          658  2016-01-01           280.459250      275.283870\n",
       "839          839  2016-06-30           381.817000      384.138000\n",
       "1023        1023  2016-12-31           674.008000      674.832000\n",
       "1024        1024  2017-01-01           663.034000      674.008000\n",
       "1204        1204  2017-06-30           849.581250      831.740000\n",
       "1388        1388  2017-12-31          2350.355000     2355.892500\n",
       "1389        1389  2018-01-01          2741.568750     2350.355000\n",
       "1569        1569  2018-06-30         10871.168750    12916.116250\n",
       "1753        1753  2018-12-31          7485.639670     7360.737036\n",
       "1754        1754  2019-01-01          7358.445677     7485.639663\n",
       "1934        1934  2019-06-30          3594.721740     3569.682666\n",
       "2118        2118  2019-12-31         10467.260938    10604.343146\n",
       "2119        2119  2020-01-01         10984.216002    10534.963252\n",
       "2300        2300  2020-06-30          8926.299028     8712.637311\n",
       "2484        2484  2020-12-31          9191.271534     9183.914419\n",
       "2485        2485  2021-01-01          9173.588333     9214.358566\n",
       "2665        2665  2021-06-30         36017.779606    36753.771185\n",
       "2786        2786  2021-10-29         43145.471291    46440.336570"
      ]
     },
     "execution_count": 40,
     "metadata": {},
     "output_type": "execute_result"
    }
   ],
   "source": [
    "import pandas as pd\n",
    "df = (pd.read_csv(\"/workspace/fifth-milestone-project-bitcoin/jupyter_notebooks/outputs/dataset/collection/Bitcoin_Price_Data.csv\").drop(['24h High (USD)','24h Low (USD)'], axis=1))\n",
    "usecols=range(2,4)\n",
    "\n",
    "newdf = df[df['Date'].str.contains('2014-03-14|01-01|06-30|12-31|2021-10-29')]\n",
    "newdf.head(25)"
   ]
  },
  {
   "attachments": {},
   "cell_type": "markdown",
   "metadata": {},
   "source": [
    "# Correlation study"
   ]
  },
  {
   "attachments": {},
   "cell_type": "markdown",
   "metadata": {},
   "source": [
    "Use correlation method of spearman and pearson and investigate the correlations"
   ]
  },
  {
   "cell_type": "code",
   "execution_count": 41,
   "metadata": {},
   "outputs": [
    {
     "name": "stdout",
     "output_type": "stream",
     "text": [
      "Pearsons correlation: 0.999\n"
     ]
    }
   ],
   "source": [
    "import pandas as pd\n",
    "from scipy.stats import pearsonr\n",
    "\n",
    "df = (pd.read_csv(\"/workspace/fifth-milestone-project-bitcoin/jupyter_notebooks/outputs/dataset/collection/Bitcoin_Price_Data.csv\").drop(['24h High (USD)','24h Low (USD)'], axis=1))\n",
    "usecols=range(2,4)\n",
    "\n",
    "newdf = df[df['Date'].str.contains('2014-03-14|01-01|06-30|12-31|2021-10-29')]\n",
    "\n",
    "x = newdf['Closing Price (USD)']\n",
    "y = newdf['24h Open (USD)']\n",
    "corr, _ = pearsonr(x, y)\n",
    "print('Pearsons correlation: %.3f' % corr)\n",
    "\n"
   ]
  },
  {
   "cell_type": "code",
   "execution_count": 42,
   "metadata": {},
   "outputs": [
    {
     "name": "stdout",
     "output_type": "stream",
     "text": [
      "Spearman correlation: 0.993\n"
     ]
    }
   ],
   "source": [
    "import pandas as pd\n",
    "from scipy.stats import spearmanr\n",
    "\n",
    "df = (pd.read_csv(\"/workspace/fifth-milestone-project-bitcoin/jupyter_notebooks/outputs/dataset/collection/Bitcoin_Price_Data.csv\").drop(['24h High (USD)','24h Low (USD)'], axis=1))\n",
    "usecols=range(2,4)\n",
    "\n",
    "newdf = df[df['Date'].str.contains('2014-03-14|01-01|06-30|12-31|2021-10-29')]\n",
    "\n",
    "x = newdf['Closing Price (USD)']\n",
    "y = newdf['24h Open (USD)']\n",
    "corr, _ = spearmanr(x, y)\n",
    "print('Spearman correlation: %.3f' % corr)"
   ]
  },
  {
   "cell_type": "code",
   "execution_count": 43,
   "metadata": {},
   "outputs": [
    {
     "data": {
      "text/plain": [
       "['Closing price (USD)', '24h open (USD)']"
      ]
     },
     "execution_count": 43,
     "metadata": {},
     "output_type": "execute_result"
    }
   ],
   "source": [
    "vars_to_study = ['Closing price (USD)', '24h open (USD)']\n",
    "vars_to_study"
   ]
  },
  {
   "attachments": {},
   "cell_type": "markdown",
   "metadata": {},
   "source": [
    "# EDA on selected variables"
   ]
  },
  {
   "cell_type": "code",
   "execution_count": 48,
   "metadata": {},
   "outputs": [
    {
     "data": {
      "text/html": [
       "<div>\n",
       "<style scoped>\n",
       "    .dataframe tbody tr th:only-of-type {\n",
       "        vertical-align: middle;\n",
       "    }\n",
       "\n",
       "    .dataframe tbody tr th {\n",
       "        vertical-align: top;\n",
       "    }\n",
       "\n",
       "    .dataframe thead th {\n",
       "        text-align: right;\n",
       "    }\n",
       "</style>\n",
       "<table border=\"1\" class=\"dataframe\">\n",
       "  <thead>\n",
       "    <tr style=\"text-align: right;\">\n",
       "      <th></th>\n",
       "      <th>Date</th>\n",
       "      <th>Closing Price (USD)</th>\n",
       "      <th>24h Open (USD)</th>\n",
       "    </tr>\n",
       "  </thead>\n",
       "  <tbody>\n",
       "    <tr>\n",
       "      <th>0</th>\n",
       "      <td>2014-03-14</td>\n",
       "      <td>124.65499</td>\n",
       "      <td>125.30466</td>\n",
       "    </tr>\n",
       "    <tr>\n",
       "      <th>1</th>\n",
       "      <td>2014-03-15</td>\n",
       "      <td>126.45500</td>\n",
       "      <td>124.65499</td>\n",
       "    </tr>\n",
       "    <tr>\n",
       "      <th>2</th>\n",
       "      <td>2014-03-16</td>\n",
       "      <td>109.58483</td>\n",
       "      <td>126.45500</td>\n",
       "    </tr>\n",
       "    <tr>\n",
       "      <th>3</th>\n",
       "      <td>2014-03-17</td>\n",
       "      <td>119.67466</td>\n",
       "      <td>109.58483</td>\n",
       "    </tr>\n",
       "    <tr>\n",
       "      <th>4</th>\n",
       "      <td>2014-03-18</td>\n",
       "      <td>122.33866</td>\n",
       "      <td>119.67466</td>\n",
       "    </tr>\n",
       "    <tr>\n",
       "      <th>5</th>\n",
       "      <td>2014-03-19</td>\n",
       "      <td>121.65533</td>\n",
       "      <td>122.33866</td>\n",
       "    </tr>\n",
       "    <tr>\n",
       "      <th>6</th>\n",
       "      <td>2014-03-20</td>\n",
       "      <td>122.79500</td>\n",
       "      <td>121.65533</td>\n",
       "    </tr>\n",
       "    <tr>\n",
       "      <th>7</th>\n",
       "      <td>2014-03-21</td>\n",
       "      <td>124.03300</td>\n",
       "      <td>122.79500</td>\n",
       "    </tr>\n",
       "    <tr>\n",
       "      <th>8</th>\n",
       "      <td>2014-03-22</td>\n",
       "      <td>125.04900</td>\n",
       "      <td>124.03300</td>\n",
       "    </tr>\n",
       "    <tr>\n",
       "      <th>9</th>\n",
       "      <td>2014-03-23</td>\n",
       "      <td>126.96116</td>\n",
       "      <td>125.04900</td>\n",
       "    </tr>\n",
       "    <tr>\n",
       "      <th>10</th>\n",
       "      <td>2014-03-24</td>\n",
       "      <td>126.27966</td>\n",
       "      <td>126.96116</td>\n",
       "    </tr>\n",
       "    <tr>\n",
       "      <th>11</th>\n",
       "      <td>2014-03-25</td>\n",
       "      <td>126.92750</td>\n",
       "      <td>126.27966</td>\n",
       "    </tr>\n",
       "    <tr>\n",
       "      <th>12</th>\n",
       "      <td>2014-03-26</td>\n",
       "      <td>127.38333</td>\n",
       "      <td>126.92750</td>\n",
       "    </tr>\n",
       "    <tr>\n",
       "      <th>13</th>\n",
       "      <td>2014-03-27</td>\n",
       "      <td>136.24199</td>\n",
       "      <td>127.38333</td>\n",
       "    </tr>\n",
       "    <tr>\n",
       "      <th>14</th>\n",
       "      <td>2014-03-28</td>\n",
       "      <td>134.20333</td>\n",
       "      <td>136.24199</td>\n",
       "    </tr>\n",
       "    <tr>\n",
       "      <th>15</th>\n",
       "      <td>2014-03-29</td>\n",
       "      <td>143.76333</td>\n",
       "      <td>134.20333</td>\n",
       "    </tr>\n",
       "    <tr>\n",
       "      <th>16</th>\n",
       "      <td>2014-03-30</td>\n",
       "      <td>138.92333</td>\n",
       "      <td>143.76333</td>\n",
       "    </tr>\n",
       "    <tr>\n",
       "      <th>17</th>\n",
       "      <td>2014-03-31</td>\n",
       "      <td>143.95166</td>\n",
       "      <td>138.92333</td>\n",
       "    </tr>\n",
       "    <tr>\n",
       "      <th>18</th>\n",
       "      <td>2014-04-01</td>\n",
       "      <td>153.55183</td>\n",
       "      <td>143.95166</td>\n",
       "    </tr>\n",
       "    <tr>\n",
       "      <th>19</th>\n",
       "      <td>2014-04-02</td>\n",
       "      <td>161.33883</td>\n",
       "      <td>153.55183</td>\n",
       "    </tr>\n",
       "    <tr>\n",
       "      <th>20</th>\n",
       "      <td>2014-04-03</td>\n",
       "      <td>165.31499</td>\n",
       "      <td>161.33883</td>\n",
       "    </tr>\n",
       "    <tr>\n",
       "      <th>21</th>\n",
       "      <td>2014-04-04</td>\n",
       "      <td>178.63333</td>\n",
       "      <td>165.31499</td>\n",
       "    </tr>\n",
       "    <tr>\n",
       "      <th>22</th>\n",
       "      <td>2014-04-05</td>\n",
       "      <td>189.29716</td>\n",
       "      <td>178.63333</td>\n",
       "    </tr>\n",
       "    <tr>\n",
       "      <th>23</th>\n",
       "      <td>2014-04-06</td>\n",
       "      <td>201.70166</td>\n",
       "      <td>189.29716</td>\n",
       "    </tr>\n",
       "    <tr>\n",
       "      <th>24</th>\n",
       "      <td>2014-04-07</td>\n",
       "      <td>181.35500</td>\n",
       "      <td>201.70166</td>\n",
       "    </tr>\n",
       "  </tbody>\n",
       "</table>\n",
       "</div>"
      ],
      "text/plain": [
       "          Date  Closing Price (USD)  24h Open (USD)\n",
       "0   2014-03-14            124.65499       125.30466\n",
       "1   2014-03-15            126.45500       124.65499\n",
       "2   2014-03-16            109.58483       126.45500\n",
       "3   2014-03-17            119.67466       109.58483\n",
       "4   2014-03-18            122.33866       119.67466\n",
       "5   2014-03-19            121.65533       122.33866\n",
       "6   2014-03-20            122.79500       121.65533\n",
       "7   2014-03-21            124.03300       122.79500\n",
       "8   2014-03-22            125.04900       124.03300\n",
       "9   2014-03-23            126.96116       125.04900\n",
       "10  2014-03-24            126.27966       126.96116\n",
       "11  2014-03-25            126.92750       126.27966\n",
       "12  2014-03-26            127.38333       126.92750\n",
       "13  2014-03-27            136.24199       127.38333\n",
       "14  2014-03-28            134.20333       136.24199\n",
       "15  2014-03-29            143.76333       134.20333\n",
       "16  2014-03-30            138.92333       143.76333\n",
       "17  2014-03-31            143.95166       138.92333\n",
       "18  2014-04-01            153.55183       143.95166\n",
       "19  2014-04-02            161.33883       153.55183\n",
       "20  2014-04-03            165.31499       161.33883\n",
       "21  2014-04-04            178.63333       165.31499\n",
       "22  2014-04-05            189.29716       178.63333\n",
       "23  2014-04-06            201.70166       189.29716\n",
       "24  2014-04-07            181.35500       201.70166"
      ]
     },
     "execution_count": 48,
     "metadata": {},
     "output_type": "execute_result"
    }
   ],
   "source": [
    "import pandas as pd\n",
    "newdf = df[df['Date'].str.contains('2014-03-14|01-01|06-30|12-31|2021-10-29')]\n",
    "vars_to_study = ['Date', 'Closing Price (USD)', '24h Open (USD)']\n",
    "df_eda = df.filter(vars_to_study)\n",
    "df_eda.head(25)"
   ]
  },
  {
   "attachments": {},
   "cell_type": "markdown",
   "metadata": {},
   "source": [
    "# Variables distribution by Annual Comparison"
   ]
  },
  {
   "cell_type": "code",
   "execution_count": 49,
   "metadata": {},
   "outputs": [
    {
     "ename": "TypeError",
     "evalue": "'int' object is not iterable",
     "output_type": "error",
     "traceback": [
      "\u001b[0;31m---------------------------------------------------------------------------\u001b[0m",
      "\u001b[0;31mAttributeError\u001b[0m                            Traceback (most recent call last)",
      "File \u001b[0;32m/workspace/.pyenv_mirror/user/current/lib/python3.8/site-packages/seaborn/_oldcore.py:1759\u001b[0m, in \u001b[0;36mcategorical_order\u001b[0;34m(vector, order)\u001b[0m\n\u001b[1;32m   1758\u001b[0m \u001b[39mtry\u001b[39;00m:\n\u001b[0;32m-> 1759\u001b[0m     order \u001b[39m=\u001b[39m vector\u001b[39m.\u001b[39;49mcat\u001b[39m.\u001b[39mcategories\n\u001b[1;32m   1760\u001b[0m \u001b[39mexcept\u001b[39;00m (\u001b[39mTypeError\u001b[39;00m, \u001b[39mAttributeError\u001b[39;00m):\n",
      "\u001b[0;31mAttributeError\u001b[0m: 'int' object has no attribute 'cat'",
      "\nDuring handling of the above exception, another exception occurred:\n",
      "\u001b[0;31mAttributeError\u001b[0m                            Traceback (most recent call last)",
      "File \u001b[0;32m/workspace/.pyenv_mirror/user/current/lib/python3.8/site-packages/seaborn/_oldcore.py:1763\u001b[0m, in \u001b[0;36mcategorical_order\u001b[0;34m(vector, order)\u001b[0m\n\u001b[1;32m   1762\u001b[0m \u001b[39mtry\u001b[39;00m:\n\u001b[0;32m-> 1763\u001b[0m     order \u001b[39m=\u001b[39m vector\u001b[39m.\u001b[39;49munique()\n\u001b[1;32m   1764\u001b[0m \u001b[39mexcept\u001b[39;00m \u001b[39mAttributeError\u001b[39;00m:\n",
      "\u001b[0;31mAttributeError\u001b[0m: 'int' object has no attribute 'unique'",
      "\nDuring handling of the above exception, another exception occurred:\n",
      "\u001b[0;31mTypeError\u001b[0m                                 Traceback (most recent call last)",
      "Cell \u001b[0;32mIn [49], line 27\u001b[0m\n\u001b[1;32m     25\u001b[0m     \u001b[39mprint\u001b[39m(\u001b[39m\"\u001b[39m\u001b[39m\\n\u001b[39;00m\u001b[39m\\n\u001b[39;00m\u001b[39m\"\u001b[39m)\n\u001b[1;32m     26\u001b[0m \u001b[39melse\u001b[39;00m:\n\u001b[0;32m---> 27\u001b[0m     plot_categorical(df_eda, col, target_var)\n\u001b[1;32m     28\u001b[0m     \u001b[39mprint\u001b[39m(\u001b[39m\"\u001b[39m\u001b[39m\\n\u001b[39;00m\u001b[39m\\n\u001b[39;00m\u001b[39m\"\u001b[39m)\n",
      "Cell \u001b[0;32mIn [49], line 15\u001b[0m, in \u001b[0;36mplot_categorical\u001b[0;34m(df, col, target_var)\u001b[0m\n\u001b[1;32m     12\u001b[0m \u001b[39mdef\u001b[39;00m \u001b[39mplot_categorical\u001b[39m(df, col, target_var):\n\u001b[1;32m     14\u001b[0m     plt\u001b[39m.\u001b[39mfigure(figsize\u001b[39m=\u001b[39m(\u001b[39m12\u001b[39m, \u001b[39m5\u001b[39m))\n\u001b[0;32m---> 15\u001b[0m     sns\u001b[39m.\u001b[39;49mcountplot(data\u001b[39m=\u001b[39;49mdf, x\u001b[39m=\u001b[39;49mcol, hue\u001b[39m=\u001b[39;49m\u001b[39m25\u001b[39;49m, order\u001b[39m=\u001b[39;49mdf[col]\u001b[39m.\u001b[39;49mvalue_counts()\u001b[39m.\u001b[39;49mindex)\n\u001b[1;32m     16\u001b[0m     plt\u001b[39m.\u001b[39mxticks(rotation\u001b[39m=\u001b[39m\u001b[39m90\u001b[39m)\n\u001b[1;32m     17\u001b[0m     plt\u001b[39m.\u001b[39mtitle(\u001b[39mf\u001b[39m\u001b[39m\"\u001b[39m\u001b[39m{\u001b[39;00mcol\u001b[39m}\u001b[39;00m\u001b[39m\"\u001b[39m, fontsize\u001b[39m=\u001b[39m\u001b[39m20\u001b[39m, y\u001b[39m=\u001b[39m\u001b[39m1.05\u001b[39m)\n",
      "File \u001b[0;32m/workspace/.pyenv_mirror/user/current/lib/python3.8/site-packages/seaborn/categorical.py:2942\u001b[0m, in \u001b[0;36mcountplot\u001b[0;34m(data, x, y, hue, order, hue_order, orient, color, palette, saturation, width, dodge, ax, **kwargs)\u001b[0m\n\u001b[1;32m   2939\u001b[0m \u001b[39melif\u001b[39;00m x \u001b[39mis\u001b[39;00m \u001b[39mnot\u001b[39;00m \u001b[39mNone\u001b[39;00m \u001b[39mand\u001b[39;00m y \u001b[39mis\u001b[39;00m \u001b[39mnot\u001b[39;00m \u001b[39mNone\u001b[39;00m:\n\u001b[1;32m   2940\u001b[0m     \u001b[39mraise\u001b[39;00m \u001b[39mValueError\u001b[39;00m(\u001b[39m\"\u001b[39m\u001b[39mCannot pass values for both `x` and `y`\u001b[39m\u001b[39m\"\u001b[39m)\n\u001b[0;32m-> 2942\u001b[0m plotter \u001b[39m=\u001b[39m _CountPlotter(\n\u001b[1;32m   2943\u001b[0m     x, y, hue, data, order, hue_order,\n\u001b[1;32m   2944\u001b[0m     estimator, errorbar, n_boot, units, seed,\n\u001b[1;32m   2945\u001b[0m     orient, color, palette, saturation,\n\u001b[1;32m   2946\u001b[0m     width, errcolor, errwidth, capsize, dodge\n\u001b[1;32m   2947\u001b[0m )\n\u001b[1;32m   2949\u001b[0m plotter\u001b[39m.\u001b[39mvalue_label \u001b[39m=\u001b[39m \u001b[39m\"\u001b[39m\u001b[39mcount\u001b[39m\u001b[39m\"\u001b[39m\n\u001b[1;32m   2951\u001b[0m \u001b[39mif\u001b[39;00m ax \u001b[39mis\u001b[39;00m \u001b[39mNone\u001b[39;00m:\n",
      "File \u001b[0;32m/workspace/.pyenv_mirror/user/current/lib/python3.8/site-packages/seaborn/categorical.py:1530\u001b[0m, in \u001b[0;36m_BarPlotter.__init__\u001b[0;34m(self, x, y, hue, data, order, hue_order, estimator, errorbar, n_boot, units, seed, orient, color, palette, saturation, width, errcolor, errwidth, capsize, dodge)\u001b[0m\n\u001b[1;32m   1525\u001b[0m \u001b[39mdef\u001b[39;00m \u001b[39m__init__\u001b[39m(\u001b[39mself\u001b[39m, x, y, hue, data, order, hue_order,\n\u001b[1;32m   1526\u001b[0m              estimator, errorbar, n_boot, units, seed,\n\u001b[1;32m   1527\u001b[0m              orient, color, palette, saturation, width,\n\u001b[1;32m   1528\u001b[0m              errcolor, errwidth, capsize, dodge):\n\u001b[1;32m   1529\u001b[0m     \u001b[39m\"\"\"Initialize the plotter.\"\"\"\u001b[39;00m\n\u001b[0;32m-> 1530\u001b[0m     \u001b[39mself\u001b[39;49m\u001b[39m.\u001b[39;49mestablish_variables(x, y, hue, data, orient,\n\u001b[1;32m   1531\u001b[0m                              order, hue_order, units)\n\u001b[1;32m   1532\u001b[0m     \u001b[39mself\u001b[39m\u001b[39m.\u001b[39mestablish_colors(color, palette, saturation)\n\u001b[1;32m   1533\u001b[0m     \u001b[39mself\u001b[39m\u001b[39m.\u001b[39mestimate_statistic(estimator, errorbar, n_boot, seed)\n",
      "File \u001b[0;32m/workspace/.pyenv_mirror/user/current/lib/python3.8/site-packages/seaborn/categorical.py:605\u001b[0m, in \u001b[0;36m_CategoricalPlotter.establish_variables\u001b[0;34m(self, x, y, hue, data, orient, order, hue_order, units)\u001b[0m\n\u001b[1;32m    601\u001b[0m     hue_names \u001b[39m=\u001b[39m \u001b[39mNone\u001b[39;00m\n\u001b[1;32m    602\u001b[0m \u001b[39melse\u001b[39;00m:\n\u001b[1;32m    603\u001b[0m \n\u001b[1;32m    604\u001b[0m     \u001b[39m# Get the order of the hue levels\u001b[39;00m\n\u001b[0;32m--> 605\u001b[0m     hue_names \u001b[39m=\u001b[39m categorical_order(hue, hue_order)\n\u001b[1;32m    607\u001b[0m     \u001b[39m# Group the hue data\u001b[39;00m\n\u001b[1;32m    608\u001b[0m     plot_hues, hue_title \u001b[39m=\u001b[39m \u001b[39mself\u001b[39m\u001b[39m.\u001b[39m_group_longform(hue, groups,\n\u001b[1;32m    609\u001b[0m                                                 group_names)\n",
      "File \u001b[0;32m/workspace/.pyenv_mirror/user/current/lib/python3.8/site-packages/seaborn/_oldcore.py:1765\u001b[0m, in \u001b[0;36mcategorical_order\u001b[0;34m(vector, order)\u001b[0m\n\u001b[1;32m   1763\u001b[0m     order \u001b[39m=\u001b[39m vector\u001b[39m.\u001b[39munique()\n\u001b[1;32m   1764\u001b[0m \u001b[39mexcept\u001b[39;00m \u001b[39mAttributeError\u001b[39;00m:\n\u001b[0;32m-> 1765\u001b[0m     order \u001b[39m=\u001b[39m pd\u001b[39m.\u001b[39;49munique(vector)\n\u001b[1;32m   1767\u001b[0m \u001b[39mif\u001b[39;00m variable_type(vector) \u001b[39m==\u001b[39m \u001b[39m\"\u001b[39m\u001b[39mnumeric\u001b[39m\u001b[39m\"\u001b[39m:\n\u001b[1;32m   1768\u001b[0m     order \u001b[39m=\u001b[39m np\u001b[39m.\u001b[39msort(order)\n",
      "File \u001b[0;32m/workspace/.pyenv_mirror/user/current/lib/python3.8/site-packages/pandas/core/algorithms.py:409\u001b[0m, in \u001b[0;36munique\u001b[0;34m(values)\u001b[0m\n\u001b[1;32m    315\u001b[0m \u001b[39mdef\u001b[39;00m \u001b[39munique\u001b[39m(values):\n\u001b[1;32m    316\u001b[0m     \u001b[39m\"\"\"\u001b[39;00m\n\u001b[1;32m    317\u001b[0m \u001b[39m    Return unique values based on a hash table.\u001b[39;00m\n\u001b[1;32m    318\u001b[0m \n\u001b[0;32m   (...)\u001b[0m\n\u001b[1;32m    407\u001b[0m \u001b[39m    array([('a', 'b'), ('b', 'a'), ('a', 'c')], dtype=object)\u001b[39;00m\n\u001b[1;32m    408\u001b[0m \u001b[39m    \"\"\"\u001b[39;00m\n\u001b[0;32m--> 409\u001b[0m     \u001b[39mreturn\u001b[39;00m unique_with_mask(values)\n",
      "File \u001b[0;32m/workspace/.pyenv_mirror/user/current/lib/python3.8/site-packages/pandas/core/algorithms.py:414\u001b[0m, in \u001b[0;36munique_with_mask\u001b[0;34m(values, mask)\u001b[0m\n\u001b[1;32m    412\u001b[0m \u001b[39mdef\u001b[39;00m \u001b[39munique_with_mask\u001b[39m(values, mask: npt\u001b[39m.\u001b[39mNDArray[np\u001b[39m.\u001b[39mbool_] \u001b[39m|\u001b[39m \u001b[39mNone\u001b[39;00m \u001b[39m=\u001b[39m \u001b[39mNone\u001b[39;00m):\n\u001b[1;32m    413\u001b[0m     \u001b[39m\"\"\"See algorithms.unique for docs. Takes a mask for masked arrays.\"\"\"\u001b[39;00m\n\u001b[0;32m--> 414\u001b[0m     values \u001b[39m=\u001b[39m _ensure_arraylike(values)\n\u001b[1;32m    416\u001b[0m     \u001b[39mif\u001b[39;00m is_extension_array_dtype(values\u001b[39m.\u001b[39mdtype):\n\u001b[1;32m    417\u001b[0m         \u001b[39m# Dispatch to extension dtype's unique.\u001b[39;00m\n\u001b[1;32m    418\u001b[0m         \u001b[39mreturn\u001b[39;00m values\u001b[39m.\u001b[39munique()\n",
      "File \u001b[0;32m/workspace/.pyenv_mirror/user/current/lib/python3.8/site-packages/pandas/core/algorithms.py:240\u001b[0m, in \u001b[0;36m_ensure_arraylike\u001b[0;34m(values)\u001b[0m\n\u001b[1;32m    236\u001b[0m \u001b[39m\"\"\"\u001b[39;00m\n\u001b[1;32m    237\u001b[0m \u001b[39mensure that we are arraylike if not already\u001b[39;00m\n\u001b[1;32m    238\u001b[0m \u001b[39m\"\"\"\u001b[39;00m\n\u001b[1;32m    239\u001b[0m \u001b[39mif\u001b[39;00m \u001b[39mnot\u001b[39;00m is_array_like(values):\n\u001b[0;32m--> 240\u001b[0m     inferred \u001b[39m=\u001b[39m lib\u001b[39m.\u001b[39;49minfer_dtype(values, skipna\u001b[39m=\u001b[39;49m\u001b[39mFalse\u001b[39;49;00m)\n\u001b[1;32m    241\u001b[0m     \u001b[39mif\u001b[39;00m inferred \u001b[39min\u001b[39;00m [\u001b[39m\"\u001b[39m\u001b[39mmixed\u001b[39m\u001b[39m\"\u001b[39m, \u001b[39m\"\u001b[39m\u001b[39mstring\u001b[39m\u001b[39m\"\u001b[39m, \u001b[39m\"\u001b[39m\u001b[39mmixed-integer\u001b[39m\u001b[39m\"\u001b[39m]:\n\u001b[1;32m    242\u001b[0m         \u001b[39m# \"mixed-integer\" to ensure we do not cast [\"ss\", 42] to str GH#22160\u001b[39;00m\n\u001b[1;32m    243\u001b[0m         \u001b[39mif\u001b[39;00m \u001b[39misinstance\u001b[39m(values, \u001b[39mtuple\u001b[39m):\n",
      "File \u001b[0;32m/workspace/.pyenv_mirror/user/current/lib/python3.8/site-packages/pandas/_libs/lib.pyx:1482\u001b[0m, in \u001b[0;36mpandas._libs.lib.infer_dtype\u001b[0;34m()\u001b[0m\n",
      "\u001b[0;31mTypeError\u001b[0m: 'int' object is not iterable"
     ]
    },
    {
     "data": {
      "text/plain": [
       "<Figure size 1200x500 with 0 Axes>"
      ]
     },
     "metadata": {},
     "output_type": "display_data"
    }
   ],
   "source": [
    "import matplotlib.pyplot as plt\n",
    "import seaborn as sns\n",
    "sns.set_style('whitegrid')\n",
    "df = pd.read_csv(\"outputs/dataset/collection/Bitcoin_Price_Data.csv\")\n",
    "\n",
    "def plot_numerical(df, col, target_var):\n",
    "    plt.figure(figsize=(8, 5))\n",
    "    sns.histplot(data=df, x=col, hue=25, kde=True, element=\"step\")\n",
    "    plt.title(f\"{col}\", fontsize=20, y=1.05)\n",
    "    plt.show()\n",
    "\n",
    "def plot_categorical(df, col, target_var):\n",
    "\n",
    "    plt.figure(figsize=(12, 5))\n",
    "    sns.countplot(data=df, x=col, hue=25, order=df[col].value_counts().index)\n",
    "    plt.xticks(rotation=90)\n",
    "    plt.title(f\"{col}\", fontsize=20, y=1.05)\n",
    "    plt.show()\n",
    "    \n",
    "target_var = 'Closing Price (USD)','24h Open (USD)'\n",
    "for col in vars_to_study:\n",
    "    \n",
    "    if df_eda[col].dtype == 'float64':\n",
    "        plot_numerical(df_eda, col, target_var)\n",
    "        print(\"\\n\\n\")\n",
    "    else:\n",
    "        plot_categorical(df_eda, col, target_var)\n",
    "        print(\"\\n\\n\")"
   ]
  },
  {
   "attachments": {},
   "cell_type": "markdown",
   "metadata": {},
   "source": [
    "# Conclusions"
   ]
  }
 ],
 "metadata": {
  "kernelspec": {
   "display_name": "Python 3",
   "language": "python",
   "name": "python3"
  },
  "language_info": {
   "codemirror_mode": {
    "name": "ipython",
    "version": 3
   },
   "file_extension": ".py",
   "mimetype": "text/x-python",
   "name": "python",
   "nbconvert_exporter": "python",
   "pygments_lexer": "ipython3",
   "version": "3.8.13"
  },
  "orig_nbformat": 4,
  "vscode": {
   "interpreter": {
    "hash": "9ac03a0a6051494cc606d484d27d20fce22fb7b4d169f583271e11d5ba46a56e"
   }
  }
 },
 "nbformat": 4,
 "nbformat_minor": 2
}
