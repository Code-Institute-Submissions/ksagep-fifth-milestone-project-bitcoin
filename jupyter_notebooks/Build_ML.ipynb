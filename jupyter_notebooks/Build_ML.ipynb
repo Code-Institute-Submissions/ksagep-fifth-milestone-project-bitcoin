{
 "cells": [
  {
   "attachments": {},
   "cell_type": "markdown",
   "metadata": {},
   "source": [
    "# ML pipeline for regression"
   ]
  },
  {
   "attachments": {},
   "cell_type": "markdown",
   "metadata": {},
   "source": [
    "## Objectives\n",
    "\n",
    "- Engineer the variables by learning parameters from the data\n",
    "- Extract useful information from the existing variables"
   ]
  },
  {
   "attachments": {},
   "cell_type": "markdown",
   "metadata": {},
   "source": [
    "## Input\n",
    "- Jupyter_notebooks/outputs/dataset/collection/Bitcoin_Price_Data.csv\n",
    "\n",
    "## Output\n",
    "- Create feature is in a more suitable format for ML model to learn paterns from"
   ]
  },
  {
   "attachments": {},
   "cell_type": "markdown",
   "metadata": {},
   "source": [
    "# Change the working directory\n",
    "\n",
    "## Import libraries"
   ]
  },
  {
   "cell_type": "code",
   "execution_count": 1,
   "metadata": {},
   "outputs": [],
   "source": [
    "import os\n",
    "import pandas as pd\n",
    "import numpy as np\n",
    "import matplotlib.pyplot as plt\n",
    "import seaborn as sns\n",
    "sns.set_style('whitegrid')\n",
    "from sklearn.pipeline import Pipeline"
   ]
  },
  {
   "attachments": {},
   "cell_type": "markdown",
   "metadata": {},
   "source": [
    "We need to change the working directory from its current folder to its parent folder\n",
    "* We access the current directory with os.getcwd()"
   ]
  },
  {
   "cell_type": "code",
   "execution_count": 2,
   "metadata": {},
   "outputs": [
    {
     "data": {
      "text/plain": [
       "'/workspace/fifth-milestone-project-bitcoin/jupyter_notebooks'"
      ]
     },
     "execution_count": 2,
     "metadata": {},
     "output_type": "execute_result"
    }
   ],
   "source": [
    "current_dir = os.getcwd()\n",
    "current_dir"
   ]
  },
  {
   "attachments": {},
   "cell_type": "markdown",
   "metadata": {},
   "source": [
    "We want to make the parent of the current directory the new current directory"
   ]
  },
  {
   "cell_type": "code",
   "execution_count": 3,
   "metadata": {},
   "outputs": [
    {
     "name": "stdout",
     "output_type": "stream",
     "text": [
      "\n"
     ]
    }
   ],
   "source": [
    "current_dir = os.getcwd()\n",
    "os.chdir(os.path.dirname(current_dir))\n",
    "print()"
   ]
  },
  {
   "attachments": {},
   "cell_type": "markdown",
   "metadata": {},
   "source": [
    "Confirm the new current directory"
   ]
  },
  {
   "cell_type": "code",
   "execution_count": 4,
   "metadata": {},
   "outputs": [
    {
     "data": {
      "text/plain": [
       "'/workspace/fifth-milestone-project-bitcoin'"
      ]
     },
     "execution_count": 4,
     "metadata": {},
     "output_type": "execute_result"
    }
   ],
   "source": [
    "current_dir = os.getcwd()\n",
    "current_dir"
   ]
  },
  {
   "attachments": {},
   "cell_type": "markdown",
   "metadata": {},
   "source": [
    "# Load data"
   ]
  },
  {
   "cell_type": "code",
   "execution_count": 5,
   "metadata": {},
   "outputs": [
    {
     "data": {
      "text/plain": [
       "<bound method NDFrame.head of       Unnamed: 0        Date  Closing Price (USD)  24h Open (USD)  \\\n",
       "0              0  2014-03-14           124.654990      125.304660   \n",
       "1              1  2014-03-15           126.455000      124.654990   \n",
       "2              2  2014-03-16           109.584830      126.455000   \n",
       "3              3  2014-03-17           119.674660      109.584830   \n",
       "4              4  2014-03-18           122.338660      119.674660   \n",
       "...          ...         ...                  ...             ...   \n",
       "2782        2782  2021-10-25         49765.132082    49597.778891   \n",
       "2783        2783  2021-10-26         50033.693137    49718.354353   \n",
       "2784        2784  2021-10-27         47886.625255    49927.035067   \n",
       "2785        2785  2021-10-28         45605.615754    46806.537852   \n",
       "2786        2786  2021-10-29         43145.471291    46440.336570   \n",
       "\n",
       "      24h High (USD)  24h Low (USD)  \n",
       "0         125.751660     123.563490  \n",
       "1         126.758500     124.633830  \n",
       "2         126.665660      84.328330  \n",
       "3         119.675000     108.058160  \n",
       "4         122.936330     119.005660  \n",
       "...              ...            ...  \n",
       "2782    51449.798576   46295.720180  \n",
       "2783    51579.312545   48945.346536  \n",
       "2784    50691.802950   47006.102292  \n",
       "2785    49671.414174   43869.638969  \n",
       "2786    46623.853437   42103.346430  \n",
       "\n",
       "[2787 rows x 6 columns]>"
      ]
     },
     "execution_count": 5,
     "metadata": {},
     "output_type": "execute_result"
    }
   ],
   "source": [
    "import pandas as pd\n",
    "df = pd.read_csv(\"/workspace/fifth-milestone-project-bitcoin/jupyter_notebooks/outputs/dataset/collection/Bitcoin_Price_Data.csv\")\n",
    "df.head"
   ]
  }
 ],
 "metadata": {
  "kernelspec": {
   "display_name": "Python 3",
   "language": "python",
   "name": "python3"
  },
  "language_info": {
   "codemirror_mode": {
    "name": "ipython",
    "version": 3
   },
   "file_extension": ".py",
   "mimetype": "text/x-python",
   "name": "python",
   "nbconvert_exporter": "python",
   "pygments_lexer": "ipython3",
   "version": "3.8.12"
  },
  "orig_nbformat": 4,
  "vscode": {
   "interpreter": {
    "hash": "8b8334dab9339717f727a1deaf837b322d7a41c20d15cc86be99a8e69ceec8ce"
   }
  }
 },
 "nbformat": 4,
 "nbformat_minor": 2
}
